{
 "cells": [
  {
   "cell_type": "code",
   "execution_count": 36,
   "id": "5a94006c",
   "metadata": {},
   "outputs": [],
   "source": [
    "import pandas as pd\n",
    "import numpy as np\n",
    "import matplotlib.pyplot as plt\n",
    "file = pd.read_csv(\"housing.csv\")"
   ]
  },
  {
   "cell_type": "code",
   "execution_count": 37,
   "id": "d71696ac",
   "metadata": {},
   "outputs": [
    {
     "name": "stdout",
     "output_type": "stream",
     "text": [
      "<class 'pandas.core.frame.DataFrame'>\n",
      "RangeIndex: 20640 entries, 0 to 20639\n",
      "Data columns (total 10 columns):\n",
      " #   Column              Non-Null Count  Dtype  \n",
      "---  ------              --------------  -----  \n",
      " 0   longitude           20640 non-null  float64\n",
      " 1   latitude            20640 non-null  float64\n",
      " 2   housing_median_age  20640 non-null  float64\n",
      " 3   total_rooms         20640 non-null  float64\n",
      " 4   total_bedrooms      20433 non-null  float64\n",
      " 5   population          20640 non-null  float64\n",
      " 6   households          20640 non-null  float64\n",
      " 7   median_income       20640 non-null  float64\n",
      " 8   median_house_value  20640 non-null  float64\n",
      " 9   ocean_proximity     20640 non-null  object \n",
      "dtypes: float64(9), object(1)\n",
      "memory usage: 1.6+ MB\n"
     ]
    }
   ],
   "source": [
    "file.info()"
   ]
  },
  {
   "cell_type": "code",
   "execution_count": 38,
   "id": "23fb1f53",
   "metadata": {},
   "outputs": [
    {
     "data": {
      "text/plain": [
       "array(['NEAR BAY', '<1H OCEAN', 'INLAND', 'NEAR OCEAN', 'ISLAND'],\n",
       "      dtype=object)"
      ]
     },
     "execution_count": 38,
     "metadata": {},
     "output_type": "execute_result"
    }
   ],
   "source": [
    "file.ocean_proximity.unique()"
   ]
  },
  {
   "cell_type": "code",
   "execution_count": 39,
   "id": "c4e5db80",
   "metadata": {},
   "outputs": [
    {
     "data": {
      "text/plain": [
       "longitude               0\n",
       "latitude                0\n",
       "housing_median_age      0\n",
       "total_rooms             0\n",
       "total_bedrooms        207\n",
       "population              0\n",
       "households              0\n",
       "median_income           0\n",
       "median_house_value      0\n",
       "ocean_proximity         0\n",
       "dtype: int64"
      ]
     },
     "execution_count": 39,
     "metadata": {},
     "output_type": "execute_result"
    }
   ],
   "source": [
    "#Q1\n",
    "file.isnull().sum()"
   ]
  },
  {
   "cell_type": "code",
   "execution_count": 40,
   "id": "35d121c6",
   "metadata": {},
   "outputs": [
    {
     "data": {
      "text/plain": [
       "1166.0"
      ]
     },
     "execution_count": 40,
     "metadata": {},
     "output_type": "execute_result"
    }
   ],
   "source": [
    "#Q2\n",
    "file.population.median()"
   ]
  },
  {
   "cell_type": "code",
   "execution_count": 41,
   "id": "ca929b45",
   "metadata": {},
   "outputs": [],
   "source": [
    "#Q3\n",
    "y = file['median_house_value']\n",
    "x = file.drop([\"median_house_value\"], axis = 1)"
   ]
  },
  {
   "cell_type": "code",
   "execution_count": 42,
   "id": "e8af921d",
   "metadata": {},
   "outputs": [],
   "source": [
    "\n",
    "x = pd.get_dummies(x, columns = ['ocean_proximity'])\n",
    "y = np.log1p(y)"
   ]
  },
  {
   "cell_type": "code",
   "execution_count": 43,
   "id": "c5b3dc96",
   "metadata": {},
   "outputs": [],
   "source": [
    "from sklearn.model_selection import train_test_split"
   ]
  },
  {
   "cell_type": "code",
   "execution_count": 44,
   "id": "3d3b51bf",
   "metadata": {},
   "outputs": [],
   "source": [
    "x_train, x_t, y_train,y_t = train_test_split(x,y, train_size = 0.6, random_state = 42)\n",
    "x_val, x_test, y_val, y_test = train_test_split(x_t, y_t, test_size = 0.5, random_state = 42)"
   ]
  },
  {
   "cell_type": "code",
   "execution_count": 45,
   "id": "af49a5da",
   "metadata": {},
   "outputs": [],
   "source": [
    "#using mean\n",
    "mean = x_train.mean()\n",
    "x_train = x_train.fillna(mean)\n",
    "#using zero\n",
    "x_tt = x_train.fillna(0)"
   ]
  },
  {
   "cell_type": "code",
   "execution_count": 46,
   "id": "637843a1",
   "metadata": {},
   "outputs": [
    {
     "data": {
      "text/plain": [
       "LinearRegression()"
      ]
     },
     "execution_count": 46,
     "metadata": {},
     "output_type": "execute_result"
    }
   ],
   "source": [
    "from sklearn.linear_model import LinearRegression\n",
    "lr = LinearRegression()\n",
    "lr.fit(x_train, y_train)\n",
    "r = LinearRegression()\n",
    "r.fit(x_tt, y_train)"
   ]
  },
  {
   "cell_type": "code",
   "execution_count": 47,
   "id": "29fe3f3c",
   "metadata": {},
   "outputs": [],
   "source": [
    "from sklearn.metrics import mean_squared_error"
   ]
  },
  {
   "cell_type": "code",
   "execution_count": 48,
   "id": "af804755",
   "metadata": {},
   "outputs": [],
   "source": [
    "#with mean\n",
    "x_test_m = x_val.fillna(mean)\n",
    "y_pred1 = lr.predict(x_test_m)\n",
    "\n",
    "#with zero\n",
    "x_te = x_val.fillna(0)\n",
    "y_pred2 = r.predict(x_te)"
   ]
  },
  {
   "cell_type": "code",
   "execution_count": 49,
   "id": "111cc0e7",
   "metadata": {},
   "outputs": [],
   "source": [
    "import math\n",
    "error_mean = math.sqrt(mean_squared_error(y_pred1, y_val))\n",
    "error_zero = math.sqrt(mean_squared_error(y_pred2, y_val))"
   ]
  },
  {
   "cell_type": "code",
   "execution_count": 50,
   "id": "60b20293",
   "metadata": {},
   "outputs": [
    {
     "data": {
      "text/plain": [
       "0.3367140807271667"
      ]
     },
     "execution_count": 50,
     "metadata": {},
     "output_type": "execute_result"
    }
   ],
   "source": [
    "error_mean"
   ]
  },
  {
   "cell_type": "code",
   "execution_count": 51,
   "id": "faef060d",
   "metadata": {},
   "outputs": [
    {
     "data": {
      "text/plain": [
       "0.3387134808494152"
      ]
     },
     "execution_count": 51,
     "metadata": {},
     "output_type": "execute_result"
    }
   ],
   "source": [
    "error_zero"
   ]
  },
  {
   "cell_type": "code",
   "execution_count": 52,
   "id": "3c62feba",
   "metadata": {},
   "outputs": [
    {
     "name": "stdout",
     "output_type": "stream",
     "text": [
      "alpha 0 = RMSE0.3387\n",
      "alpha 1e-06 = RMSE0.3387\n",
      "alpha 0.0001 = RMSE0.3387\n",
      "alpha 0.001 = RMSE0.3387\n",
      "alpha 0.01 = RMSE0.3387\n",
      "alpha 0.1 = RMSE0.3387\n",
      "alpha 1 = RMSE0.3388\n",
      "alpha 5 = RMSE0.3389\n",
      "alpha 10 = RMSE0.339\n"
     ]
    },
    {
     "name": "stderr",
     "output_type": "stream",
     "text": [
      "C:\\Users\\user\\anaconda3\\anaconda3\\lib\\site-packages\\sklearn\\linear_model\\_ridge.py:147: LinAlgWarning: Ill-conditioned matrix (rcond=9.58843e-24): result may not be accurate.\n",
      "  return linalg.solve(A, Xy, sym_pos=True,\n",
      "C:\\Users\\user\\anaconda3\\anaconda3\\lib\\site-packages\\sklearn\\linear_model\\_ridge.py:147: LinAlgWarning: Ill-conditioned matrix (rcond=9.80708e-18): result may not be accurate.\n",
      "  return linalg.solve(A, Xy, sym_pos=True,\n"
     ]
    }
   ],
   "source": [
    "#Q4\n",
    "from sklearn.linear_model import Ridge, Lasso\n",
    "alphas = [0, 0.000001, 0.0001, 0.001, 0.01, 0.1, 1, 5, 10]\n",
    "for a in alphas:\n",
    "    rd = Ridge(alpha = a, fit_intercept = True)\n",
    "    model = rd.fit(x_tt, y_train)\n",
    "    y_new = model.predict(x_te)\n",
    "    error = round(math.sqrt(mean_squared_error(y_new, y_val)),4)\n",
    "    print(\"alpha {} = RMSE{}\".format(a,error))"
   ]
  },
  {
   "cell_type": "code",
   "execution_count": 53,
   "id": "e9b1a9f8",
   "metadata": {},
   "outputs": [
    {
     "data": {
      "text/plain": [
       "[0.3270416806809724,\n",
       " 0.33418959662124914,\n",
       " 0.33337656564093643,\n",
       " 0.3231000368075514,\n",
       " 0.3257060580063175,\n",
       " 0.32866241707691496,\n",
       " 0.3268410937211536,\n",
       " 0.33466032186306105,\n",
       " 0.3314297894126479,\n",
       " 0.323372750894921]"
      ]
     },
     "execution_count": 53,
     "metadata": {},
     "output_type": "execute_result"
    }
   ],
   "source": [
    "seed_errors = []\n",
    "for i in range(10):\n",
    "    x_train, x_t, y_train,y_t = train_test_split(x,y, train_size = 0.6, random_state = i)\n",
    "    x_val, x_test, y_val, y_test = train_test_split(x_t, y_t, test_size = 0.5, random_state = i)\n",
    "    x_tee = x_val.fillna(0)\n",
    "    y_predd = r.predict(x_tee)\n",
    "    error_z = math.sqrt(mean_squared_error(y_predd, y_val))\n",
    "    seed_errors.append(error_z)\n",
    "seed_errors"
   ]
  },
  {
   "cell_type": "code",
   "execution_count": 54,
   "id": "1d5a7b37",
   "metadata": {},
   "outputs": [],
   "source": [
    "STD = np.std(seed_errors)"
   ]
  },
  {
   "cell_type": "code",
   "execution_count": 56,
   "id": "6769f79f",
   "metadata": {},
   "outputs": [
    {
     "data": {
      "text/plain": [
       "0.004"
      ]
     },
     "execution_count": 56,
     "metadata": {},
     "output_type": "execute_result"
    }
   ],
   "source": [
    "round(STD,3)"
   ]
  },
  {
   "cell_type": "code",
   "execution_count": 58,
   "id": "66e478b3",
   "metadata": {},
   "outputs": [
    {
     "data": {
      "text/plain": [
       "0.32903858858955526"
      ]
     },
     "execution_count": 58,
     "metadata": {},
     "output_type": "execute_result"
    }
   ],
   "source": [
    "#Q6\n",
    "x2 = x.fillna(0)\n",
    "x_train, x_test, y_train,y_test = train_test_split(x2,y, train_size = 0.6, random_state = 9)\n",
    "rd = Ridge(alpha = 0.001, fit_intercept = True)\n",
    "rd.fit(x_train, y_train)\n",
    "y_p = rd.predict(x_test)\n",
    "math.sqrt(mean_squared_error(y_p, y_test))"
   ]
  },
  {
   "cell_type": "code",
   "execution_count": null,
   "id": "4767f46c",
   "metadata": {},
   "outputs": [],
   "source": []
  }
 ],
 "metadata": {
  "kernelspec": {
   "display_name": "Python 3 (ipykernel)",
   "language": "python",
   "name": "python3"
  },
  "language_info": {
   "codemirror_mode": {
    "name": "ipython",
    "version": 3
   },
   "file_extension": ".py",
   "mimetype": "text/x-python",
   "name": "python",
   "nbconvert_exporter": "python",
   "pygments_lexer": "ipython3",
   "version": "3.9.7"
  }
 },
 "nbformat": 4,
 "nbformat_minor": 5
}
